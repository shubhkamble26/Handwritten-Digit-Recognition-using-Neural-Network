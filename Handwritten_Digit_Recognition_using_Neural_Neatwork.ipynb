{
  "nbformat": 4,
  "nbformat_minor": 0,
  "metadata": {
    "kernelspec": {
      "display_name": "Python 3",
      "language": "python",
      "name": "python3"
    },
    "language_info": {
      "codemirror_mode": {
        "name": "ipython",
        "version": 3
      },
      "file_extension": ".py",
      "mimetype": "text/x-python",
      "name": "python",
      "nbconvert_exporter": "python",
      "pygments_lexer": "ipython3",
      "version": "3.6.8"
    },
    "colab": {
      "name": "Handwritten Digit Recognition using Neural Neatwork.ipynb",
      "provenance": [],
      "include_colab_link": true
    }
  },
  "cells": [
    {
      "cell_type": "markdown",
      "metadata": {
        "id": "view-in-github",
        "colab_type": "text"
      },
      "source": [
        "<a href=\"https://colab.research.google.com/github/shubhkamble26/Handwritten-Digit-Recognition-using-Neural-Network/blob/master/Handwritten_Digit_Recognition_using_Neural_Neatwork.ipynb\" target=\"_parent\"><img src=\"https://colab.research.google.com/assets/colab-badge.svg\" alt=\"Open In Colab\"/></a>"
      ]
    },
    {
      "cell_type": "markdown",
      "metadata": {
        "id": "97axu9xsWwQv",
        "colab_type": "text"
      },
      "source": [
        "# Handwritten digit recognition using Neural Network\n",
        "To create and train a Neural Network model that predict digits from hand-written images \n",
        "\n",
        "This model takes an image of a hand written digit as input and predicts the class of that digit, that is, it predicts the digit \n",
        "\n"
      ]
    },
    {
      "cell_type": "markdown",
      "metadata": {
        "id": "OGoqKQahlZq0",
        "colab_type": "text"
      },
      "source": [
        "Install keras and tensorflow as a backend for keras "
      ]
    },
    {
      "cell_type": "code",
      "metadata": {
        "id": "W-KBVGJAXam1",
        "colab_type": "code",
        "colab": {
          "base_uri": "https://localhost:8080/",
          "height": 90
        },
        "outputId": "6cdcbbd6-8266-4ddf-eeba-8e182d23447b"
      },
      "source": [
        "!install keras\n",
        "!install tensorflow"
      ],
      "execution_count": 49,
      "outputs": [
        {
          "output_type": "stream",
          "text": [
            "install: missing destination file operand after 'keras'\n",
            "Try 'install --help' for more information.\n",
            "install: missing destination file operand after 'tensorflow'\n",
            "Try 'install --help' for more information.\n"
          ],
          "name": "stdout"
        }
      ]
    },
    {
      "cell_type": "markdown",
      "metadata": {
        "id": "9DznpbQylsvm",
        "colab_type": "text"
      },
      "source": [
        "Importing tensorflow as tf"
      ]
    },
    {
      "cell_type": "code",
      "metadata": {
        "id": "M_qW-Z4PWwQy",
        "colab_type": "code",
        "colab": {
          "base_uri": "https://localhost:8080/",
          "height": 35
        },
        "outputId": "c67a6391-b665-4b44-b68c-85536b4271c0"
      },
      "source": [
        "import numpy as np\n",
        "import matplotlib.pyplot as plt\n",
        "%matplotlib inline\n",
        "import tensorflow as tf\n",
        "\n",
        "print('TensorFlow version:', tf.__version__)"
      ],
      "execution_count": 50,
      "outputs": [
        {
          "output_type": "stream",
          "text": [
            "TensorFlow version: 2.2.0\n"
          ],
          "name": "stdout"
        }
      ]
    },
    {
      "cell_type": "markdown",
      "metadata": {
        "id": "0k4hQdFrWwQ5",
        "colab_type": "text"
      },
      "source": [
        "# Load Dataset\n",
        "\n",
        "Load MNIST dataset which has lots of images of hand-written digits along with their labels."
      ]
    },
    {
      "cell_type": "code",
      "metadata": {
        "id": "27XdTeP2WwQ6",
        "colab_type": "code",
        "colab": {}
      },
      "source": [
        "from tensorflow.keras.datasets import mnist\n",
        "(train_X, train_Y), (test_X, test_Y) = mnist.load_data()"
      ],
      "execution_count": 51,
      "outputs": []
    },
    {
      "cell_type": "markdown",
      "metadata": {
        "id": "62K5dFl4U6hq",
        "colab_type": "text"
      },
      "source": [
        "To find shape of each of the Training set and Test Set"
      ]
    },
    {
      "cell_type": "code",
      "metadata": {
        "id": "PZDwqEInWwRA",
        "colab_type": "code",
        "colab": {
          "base_uri": "https://localhost:8080/",
          "height": 54
        },
        "outputId": "ae615ba4-47a5-48db-b5b5-bc61268ae1e8"
      },
      "source": [
        "print('train_X shape:{},train_Y shape:{} '.format(train_X.shape,train_Y.shape))\n",
        "print('test_X shape:{},test_Y shape:{} '.format(test_X.shape,test_Y.shape))"
      ],
      "execution_count": 52,
      "outputs": [
        {
          "output_type": "stream",
          "text": [
            "train_X shape:(60000, 28, 28),train_Y shape:(60000,) \n",
            "test_X shape:(10000, 28, 28),test_Y shape:(10000,) \n"
          ],
          "name": "stdout"
        }
      ]
    },
    {
      "cell_type": "markdown",
      "metadata": {
        "id": "S1qc191DY9Yl",
        "colab_type": "text"
      },
      "source": [
        "Displaying first example in training dataset and it's label"
      ]
    },
    {
      "cell_type": "code",
      "metadata": {
        "id": "m22MRa7WWwRH",
        "colab_type": "code",
        "colab": {
          "base_uri": "https://localhost:8080/",
          "height": 283
        },
        "outputId": "ee25a166-a97b-4baa-8fc1-11a40b9836d1"
      },
      "source": [
        "print('Actual label of first example in training dataset is :',train_Y[0])\n",
        "plt.imshow(train_X[0])\n",
        "plt.show()"
      ],
      "execution_count": 53,
      "outputs": [
        {
          "output_type": "stream",
          "text": [
            "Actual label of first example in training dataset is : 5\n"
          ],
          "name": "stdout"
        },
        {
          "output_type": "display_data",
          "data": {
            "image/png": "[encoded data removed]",
            "text/plain": [
              "<Figure size 432x288 with 1 Axes>"
            ]
          },
          "metadata": {
            "tags": [],
            "needs_background": "light"
          }
        }
      ]
    },
    {
      "cell_type": "markdown",
      "metadata": {
        "id": "ugRw3cHDZjF3",
        "colab_type": "text"
      },
      "source": [
        "Total different digits present in dataset"
      ]
    },
    {
      "cell_type": "code",
      "metadata": {
        "id": "sdd0j11TWwRP",
        "colab_type": "code",
        "colab": {
          "base_uri": "https://localhost:8080/",
          "height": 35
        },
        "outputId": "55eb32c5-2133-4260-da69-c76f9cb38bcb"
      },
      "source": [
        "print(\"Total different digits present in a dataset: \",set(train_Y))"
      ],
      "execution_count": 54,
      "outputs": [
        {
          "output_type": "stream",
          "text": [
            "Total different digits present in a dataset:  {0, 1, 2, 3, 4, 5, 6, 7, 8, 9}\n"
          ],
          "name": "stdout"
        }
      ]
    },
    {
      "cell_type": "markdown",
      "metadata": {
        "id": "LmtWijOoWwRS",
        "colab_type": "text"
      },
      "source": [
        "# Apply One Hot Encoding to the y_train and y_test\n",
        "\n",
        "Convert the number to a vectorial form using One Hot Encoding\n",
        "\n",
        "* original label :5 \n",
        "* One-hot encoded label: [0, 0, 0, 0, 0, 1, 0, 0, 0, 0] \n"
      ]
    },
    {
      "cell_type": "code",
      "metadata": {
        "id": "QfC-p72kZ1r0",
        "colab_type": "code",
        "colab": {
          "base_uri": "https://localhost:8080/",
          "height": 35
        },
        "outputId": "0f56a237-cf4f-4508-9f7a-9c801c1a6b57"
      },
      "source": [
        "from sklearn.preprocessing import LabelEncoder\n",
        "le=LabelEncoder()\n",
        "Y=le.fit_transform(train_Y)\n",
        "Y[0]"
      ],
      "execution_count": 55,
      "outputs": [
        {
          "output_type": "execute_result",
          "data": {
            "text/plain": [
              "5"
            ]
          },
          "metadata": {
            "tags": []
          },
          "execution_count": 55
        }
      ]
    },
    {
      "cell_type": "code",
      "metadata": {
        "id": "oAuY9QW7WwRT",
        "colab_type": "code",
        "colab": {}
      },
      "source": [
        "from tensorflow.keras.utils import to_categorical\n",
        "\n",
        "train_Yvector = to_categorical(train_Y)\n",
        "test_Yvector = to_categorical(test_Y)"
      ],
      "execution_count": 56,
      "outputs": []
    },
    {
      "cell_type": "markdown",
      "metadata": {
        "id": "fvWDeoQYWwRY",
        "colab_type": "text"
      },
      "source": [
        "Checking the shape of the encoded label vectors."
      ]
    },
    {
      "cell_type": "code",
      "metadata": {
        "id": "6h9ijbfmWwRZ",
        "colab_type": "code",
        "colab": {
          "base_uri": "https://localhost:8080/",
          "height": 54
        },
        "outputId": "6842fe38-e015-4be3-b6ce-30c97dd0262f"
      },
      "source": [
        "print('train_Yvector shape: ', train_Yvector.shape)\n",
        "print('test_Yvector shape: ', test_Yvector.shape)"
      ],
      "execution_count": 57,
      "outputs": [
        {
          "output_type": "stream",
          "text": [
            "train_Yvector shape:  (60000, 10)\n",
            "test_Yvector shape:  (10000, 10)\n"
          ],
          "name": "stdout"
        }
      ]
    },
    {
      "cell_type": "markdown",
      "metadata": {
        "id": "qlyPReKWeZji",
        "colab_type": "text"
      },
      "source": [
        "Each label gets converted into 10 Dimensional vector\n"
      ]
    },
    {
      "cell_type": "markdown",
      "metadata": {
        "id": "CFZBEMkyWwRd",
        "colab_type": "text"
      },
      "source": [
        "Let's look at the first label after encoding:"
      ]
    },
    {
      "cell_type": "code",
      "metadata": {
        "id": "7YSF1JUGWwRe",
        "colab_type": "code",
        "colab": {
          "base_uri": "https://localhost:8080/",
          "height": 35
        },
        "outputId": "84305184-43b8-417a-bc47-3656e25283f3"
      },
      "source": [
        "print(train_Yvector[0])"
      ],
      "execution_count": 58,
      "outputs": [
        {
          "output_type": "stream",
          "text": [
            "[0. 0. 0. 0. 0. 1. 0. 0. 0. 0.]\n"
          ],
          "name": "stdout"
        }
      ]
    },
    {
      "cell_type": "markdown",
      "metadata": {
        "id": "48l9wQNwWwRh",
        "colab_type": "text"
      },
      "source": [
        "# Preprocessing the Examples\n",
        "\n",
        "Create a Neural Network which will take 784 dimensional vectors as inputs (28 rows * 28 columns) and will output a 10 dimensional vector (For the 10 classes). We have already converted the outputs to 10 dimensional, one-hot encoded vectors. Use numpy to easily unroll the examples from `(28, 28)` arrays to `(784, 1)` vectors."
      ]
    },
    {
      "cell_type": "markdown",
      "metadata": {
        "id": "1WoV0jOBfns7",
        "colab_type": "text"
      },
      "source": [
        "* Unrolling an 28X28 image into 784 dimensional vecor. with 10 classes 0-9 \n",
        "* (28,28) ----- (784,1)\n",
        "* By using reshape in numpy\n"
      ]
    },
    {
      "cell_type": "code",
      "metadata": {
        "id": "HgKeW1KTWwRi",
        "colab_type": "code",
        "colab": {
          "base_uri": "https://localhost:8080/",
          "height": 54
        },
        "outputId": "26d3944b-fde4-4ec8-98cd-58534052cd76"
      },
      "source": [
        "train_Xreshape = np.reshape(train_X, (60000, 784))\n",
        "test_Xreshape = np.reshape(test_X, (10000, 784))\n",
        "\n",
        "print('train_Xreshaped shape: ', train_Xreshape.shape)\n",
        "print('test_Xreshaped shape: ', test_Xreshape.shape)"
      ],
      "execution_count": 59,
      "outputs": [
        {
          "output_type": "stream",
          "text": [
            "train_Xreshaped shape:  (60000, 784)\n",
            "test_Xreshaped shape:  (10000, 784)\n"
          ],
          "name": "stdout"
        }
      ]
    },
    {
      "cell_type": "markdown",
      "metadata": {
        "id": "4c0EE2dWWwRl",
        "colab_type": "text"
      },
      "source": [
        "As this 784 dimensional vector is a pixel value for each example.Check pixels of a first example "
      ]
    },
    {
      "cell_type": "code",
      "metadata": {
        "id": "WbzUpBrdWwRm",
        "colab_type": "code",
        "colab": {
          "base_uri": "https://localhost:8080/",
          "height": 55
        },
        "outputId": "dda9aeed-b68c-4105-9e1f-2d2a3ea5d9bf"
      },
      "source": [
        "print(set(train_Xreshape[0]))"
      ],
      "execution_count": 60,
      "outputs": [
        {
          "output_type": "stream",
          "text": [
            "{0, 1, 2, 3, 9, 11, 14, 16, 18, 23, 24, 25, 26, 27, 30, 35, 36, 39, 43, 45, 46, 49, 55, 56, 64, 66, 70, 78, 80, 81, 82, 90, 93, 94, 107, 108, 114, 119, 126, 127, 130, 132, 133, 135, 136, 139, 148, 150, 154, 156, 160, 166, 170, 171, 172, 175, 182, 183, 186, 187, 190, 195, 198, 201, 205, 207, 212, 213, 219, 221, 225, 226, 229, 238, 240, 241, 242, 244, 247, 249, 250, 251, 252, 253, 255}\n"
          ],
          "name": "stdout"
        }
      ]
    },
    {
      "cell_type": "markdown",
      "metadata": {
        "id": "tU6X4Vbhg5t3",
        "colab_type": "text"
      },
      "source": [
        "Pixels are varying from 0 to 255. Now normalise the data as it's range is large.Apply standard normalisation"
      ]
    },
    {
      "cell_type": "code",
      "metadata": {
        "id": "JDtJBVh6WwRr",
        "colab_type": "code",
        "colab": {
          "base_uri": "https://localhost:8080/",
          "height": 35
        },
        "outputId": "030f682d-f016-4e82-d507-f01d5dba32f4"
      },
      "source": [
        "mean_X = np.mean(train_Xreshape)\n",
        "std_X = np.std(train_Xreshape)\n",
        "\n",
        "print('Mean:{}, Standard Deviation:{}'.format(mean_X,std_X))"
      ],
      "execution_count": 61,
      "outputs": [
        {
          "output_type": "stream",
          "text": [
            "Mean:33.318421449829934, Standard Deviation:78.56748998339798\n"
          ],
          "name": "stdout"
        }
      ]
    },
    {
      "cell_type": "markdown",
      "metadata": {
        "id": "wBENKSFiWwRu",
        "colab_type": "text"
      },
      "source": [
        "Normalise both the training and test set using the mean and standard deviation calculated above."
      ]
    },
    {
      "cell_type": "code",
      "metadata": {
        "id": "olRPmHA2WwRu",
        "colab_type": "code",
        "colab": {}
      },
      "source": [
        "train_Xnormalised = (train_Xreshape - mean_X)/(std_X)\n",
        "test_Xnormalised = (test_Xreshape - mean_X)/(std_X)"
      ],
      "execution_count": 62,
      "outputs": []
    },
    {
      "cell_type": "markdown",
      "metadata": {
        "id": "0rvytYJSWwRz",
        "colab_type": "text"
      },
      "source": [
        "Let's check first normalised value"
      ]
    },
    {
      "cell_type": "code",
      "metadata": {
        "id": "kny5qZ8rWwR0",
        "colab_type": "code",
        "colab": {
          "base_uri": "https://localhost:8080/",
          "height": 55
        },
        "outputId": "61edc3d8-3fcb-4731-fe0d-8e5daabfaa00"
      },
      "source": [
        "print(set(train_Xnormalised[0]))"
      ],
      "execution_count": 63,
      "outputs": [
        {
          "output_type": "stream",
          "text": [
            "{-0.3858901621553201, 1.3069219669849146, 1.1796428595307615, 1.8033104860561113, 1.6887592893473735, 2.821543345689335, 2.7197200597260127, 1.192370770276177, 1.53602436040239, 1.7396709323290347, 2.7960875241985046, 2.6560805059989363, 2.18514780841857, 2.4906176663085375, -0.10587612575618353, 2.681536327489767, 0.03413089244338476, -0.19497150097409063, 0.7723497156774721, 0.9378125553678709, -0.2458831439557518, 2.210603629909401, 1.9051337720194337, 1.2687382347486686, 1.7651267538198654, -0.424073894391566, 0.41596821480584373, -0.2840668761919977, 0.27596119660627544, 1.4596568959298981, 1.2941940562394993, 2.096052433200663, 1.9560454150010949, 2.7579037919622587, 1.4851127174207288, -0.09314821501076823, 2.783359613453089, 2.286971094381893, 2.4524339340722916, 1.3451056992211605, -0.042236572029107036, 2.643352595253521, -0.13133194724701414, 0.7596218049320568, 0.28868910735169073, 0.6068868759870732, 0.6196147867324885, -0.4113459836461507, 0.46687985778750496, 0.9505404661132862, 0.14868208915212244, 0.5687031437508273, 1.2305545025124227, 0.5941589652416579, 2.3633385588543843, 0.12322626766129186, 1.5614801818932207, 1.0905474843128544, 0.19959373213378365, -0.08042030426535293, -0.22042732246492122, 1.8924058612740184, 1.2560103240032534, 2.057868700964417, 1.7523988430744502, 2.388794380345215, 0.39051239331501314, -0.3986180729007354, -0.3095226976828283, 1.6123918248748819, 1.9433175042556796, 0.02140298169796946, -0.11860403650159883, 2.439706023326876, 2.7451758812168436, 2.2742431836364774, 0.16140999989753776, 2.6051688630172753, 2.770631702707674, 2.134236165436909, 1.026907930585778, 0.07231462467963067, 1.9942291472373408, 2.630624684508106, 0.721438072695811}\n"
          ],
          "name": "stdout"
        }
      ]
    },
    {
      "cell_type": "markdown",
      "metadata": {
        "id": "K77vCnGRWwR3",
        "colab_type": "text"
      },
      "source": [
        "# Create Model\n",
        "\n",
        "Use a Sequential class defined in Keras to create our model. All the layers are going to be Dense layers. This means, like our examples above, all the nodes of a layer would be connected to all the nodes of the preceding layer i.e. densely connected."
      ]
    },
    {
      "cell_type": "code",
      "metadata": {
        "id": "lU6lBkvIWwR3",
        "colab_type": "code",
        "colab": {}
      },
      "source": [
        "from tensorflow.keras.models import Sequential\n",
        "from tensorflow.keras.layers import Flatten\n",
        "from tensorflow.keras.layers import Dense\n",
        "\n",
        "\n",
        "model = Sequential([\n",
        "    Dense(100, activation = 'sigmoid', input_shape = (784,)),\n",
        "    Dense(100, activation = 'sigmoid'),\n",
        "    Dense(10, activation = 'softmax')\n",
        "])"
      ],
      "execution_count": 64,
      "outputs": []
    },
    {
      "cell_type": "markdown",
      "metadata": {
        "id": "78lzcpJxWwR9",
        "colab_type": "text"
      },
      "source": [
        "Above model have two hidden layers with 128 nodes each and one output layer with 10 nodes. We set the input shape on the first hidden layer to correspond to the shape of a single example from our reshaped training and test sets  each example is a 784 dimensional vector for the 784 pixels of the images.\n",
        "\n",
        "\n",
        "\n",
        "Use stochastic gradient descent algorithm in order to optimize the weights and biases as per the given data.\n",
        "\n",
        "This loss needs to be minimised in order to have a higher model accuracy. Optimasation algorithm minimises the loss during model training.Use *categorical cross entropy* as optimisation function.\n"
      ]
    },
    {
      "cell_type": "code",
      "metadata": {
        "id": "nb-11-EAWwR-",
        "colab_type": "code",
        "colab": {
          "base_uri": "https://localhost:8080/",
          "height": 272
        },
        "outputId": "282af2c6-066c-42a7-d8b5-e913f3989d5c"
      },
      "source": [
        "model.compile(\n",
        "    optimizer = 'Adam',\n",
        "    loss = 'categorical_crossentropy',\n",
        "    metrics = ['accuracy']\n",
        ")\n",
        "\n",
        "model.summary()"
      ],
      "execution_count": 65,
      "outputs": [
        {
          "output_type": "stream",
          "text": [
            "Model: \"sequential_1\"\n",
            "_________________________________________________________________\n",
            "Layer (type)                 Output Shape              Param #   \n",
            "=================================================================\n",
            "dense_3 (Dense)              (None, 100)               78500     \n",
            "_________________________________________________________________\n",
            "dense_4 (Dense)              (None, 100)               10100     \n",
            "_________________________________________________________________\n",
            "dense_5 (Dense)              (None, 10)                1010      \n",
            "=================================================================\n",
            "Total params: 89,610\n",
            "Trainable params: 89,610\n",
            "Non-trainable params: 0\n",
            "_________________________________________________________________\n"
          ],
          "name": "stdout"
        }
      ]
    },
    {
      "cell_type": "markdown",
      "metadata": {
        "id": "qq9tpWE9WwSC",
        "colab_type": "text"
      },
      "source": [
        "# Training the Model\n",
        "\n",
        "Train the model for 3 epochs."
      ]
    },
    {
      "cell_type": "code",
      "metadata": {
        "id": "u0NUndyOWwSD",
        "colab_type": "code",
        "colab": {
          "base_uri": "https://localhost:8080/",
          "height": 126
        },
        "outputId": "f51fe6d3-452a-460a-db5a-a6fe94d005f3"
      },
      "source": [
        "h = model.fit(\n",
        "    train_Xnormalised,\n",
        "    train_Yvector,\n",
        "    epochs = 3\n",
        ")"
      ],
      "execution_count": 66,
      "outputs": [
        {
          "output_type": "stream",
          "text": [
            "Epoch 1/3\n",
            "1875/1875 [==============================] - 4s 2ms/step - loss: 0.3681 - accuracy: 0.9057\n",
            "Epoch 2/3\n",
            "1875/1875 [==============================] - 4s 2ms/step - loss: 0.1408 - accuracy: 0.9587\n",
            "Epoch 3/3\n",
            "1875/1875 [==============================] - 4s 2ms/step - loss: 0.0969 - accuracy: 0.9718\n"
          ],
          "name": "stdout"
        }
      ]
    },
    {
      "cell_type": "markdown",
      "metadata": {
        "id": "5_diCS2AWwSG",
        "colab_type": "text"
      },
      "source": [
        "Evaluate the performance on the test set. Simply use the `evaluate` method on our model."
      ]
    },
    {
      "cell_type": "code",
      "metadata": {
        "id": "fKyqxTW7WwSH",
        "colab_type": "code",
        "colab": {
          "base_uri": "https://localhost:8080/",
          "height": 54
        },
        "outputId": "b61df1f9-a50b-470c-e81f-17c0583a2d57"
      },
      "source": [
        "loss, accuracy = model.evaluate(test_Xnormalised, test_Yvector)\n",
        "\n",
        "print('test set accuracy: ', accuracy * 100)"
      ],
      "execution_count": 67,
      "outputs": [
        {
          "output_type": "stream",
          "text": [
            "313/313 [==============================] - 0s 1ms/step - loss: 0.1021 - accuracy: 0.9696\n",
            "test set accuracy:  96.96000218391418\n"
          ],
          "name": "stdout"
        }
      ]
    },
    {
      "cell_type": "markdown",
      "metadata": {
        "id": "FKoZm9s6WwSJ",
        "colab_type": "text"
      },
      "source": [
        "# Predictions"
      ]
    },
    {
      "cell_type": "code",
      "metadata": {
        "id": "E4Vx-b1_WwSK",
        "colab_type": "code",
        "colab": {
          "base_uri": "https://localhost:8080/",
          "height": 35
        },
        "outputId": "72f01fd5-aa74-498c-c299-8f0f68a0f6c0"
      },
      "source": [
        "predictions = model.predict(test_Xnormalised)\n",
        "\n",
        "print('shape of predictions: ', predictions.shape)"
      ],
      "execution_count": 68,
      "outputs": [
        {
          "output_type": "stream",
          "text": [
            "shape of predictions:  (10000, 10)\n"
          ],
          "name": "stdout"
        }
      ]
    },
    {
      "cell_type": "markdown",
      "metadata": {
        "id": "oYERVOb9WwSM",
        "colab_type": "text"
      },
      "source": [
        "Plotting the first few test set images along with their predicted and actual labels."
      ]
    },
    {
      "cell_type": "code",
      "metadata": {
        "id": "ynAS1Q1QWwSN",
        "colab_type": "code",
        "colab": {
          "base_uri": "https://localhost:8080/",
          "height": 866
        },
        "outputId": "159a69b5-6828-4033-859b-cc34efd5ff54"
      },
      "source": [
        "plt.figure(figsize = (17, 15))\n",
        "\n",
        "start = 0\n",
        "\n",
        "for i in range(24):\n",
        "    plt.subplot(6, 4, i + 1)\n",
        "    plt.xticks([])\n",
        "    plt.yticks([])\n",
        "    predicted = np.argmax(predictions[start+ i])\n",
        "    actual = np.argmax(test_Yvector[start + i])\n",
        "    col = 'g'\n",
        "    if predicted != actual:\n",
        "        col = 'r'\n",
        "    plt.title('index={}, predicted={}, actual={}'.format(start + i, predicted, actual), color = col)\n",
        "    plt.imshow(test_X[start + i], cmap='Greys')\n",
        "plt.show()"
      ],
      "execution_count": 69,
      "outputs": [
        {
          "output_type": "display_data",
          "data": {
            "image/png": "[encoded data removed]",
            "text/plain": [
              "<Figure size 1224x1080 with 24 Axes>"
            ]
          },
          "metadata": {
            "tags": []
          }
        }
      ]
    },
    {
      "cell_type": "markdown",
      "metadata": {
        "id": "MJsZ1bqtWwSP",
        "colab_type": "text"
      },
      "source": [
        "\n",
        "It gets most of the predictions right!"
      ]
    },
    {
      "cell_type": "markdown",
      "metadata": {
        "id": "iORKGdrMtaPD",
        "colab_type": "text"
      },
      "source": [
        "Checking the Wrong prediction of index=8"
      ]
    },
    {
      "cell_type": "code",
      "metadata": {
        "id": "IefOhRYPtw1f",
        "colab_type": "code",
        "colab": {
          "base_uri": "https://localhost:8080/",
          "height": 35
        },
        "outputId": "9c0ceb5d-251c-4110-ea70-96281ef9b350"
      },
      "source": [
        "np.argmax(predictions[8])"
      ],
      "execution_count": 70,
      "outputs": [
        {
          "output_type": "execute_result",
          "data": {
            "text/plain": [
              "5"
            ]
          },
          "metadata": {
            "tags": []
          },
          "execution_count": 70
        }
      ]
    },
    {
      "cell_type": "code",
      "metadata": {
        "id": "aBp1DNj8DN-W",
        "colab_type": "code",
        "colab": {
          "base_uri": "https://localhost:8080/",
          "height": 35
        },
        "outputId": "e99a7a13-cfbe-45cb-8ada-757ab3caa910"
      },
      "source": [
        "test_Y[8]"
      ],
      "execution_count": 71,
      "outputs": [
        {
          "output_type": "execute_result",
          "data": {
            "text/plain": [
              "5"
            ]
          },
          "metadata": {
            "tags": []
          },
          "execution_count": 71
        }
      ]
    },
    {
      "cell_type": "code",
      "metadata": {
        "id": "HX-Lncy6Rjpi",
        "colab_type": "code",
        "colab": {
          "base_uri": "https://localhost:8080/",
          "height": 265
        },
        "outputId": "041cfe3f-99d4-4126-df69-3380c7dd88c3"
      },
      "source": [
        "plt.plot(predictions[8])\n",
        "#plt.plot(test_Yvector)\n",
        "plt.show()"
      ],
      "execution_count": 72,
      "outputs": [
        {
          "output_type": "display_data",
          "data": {
            "image/png": "[encoded data removed]",
            "text/plain": [
              "<Figure size 432x288 with 1 Axes>"
            ]
          },
          "metadata": {
            "tags": [],
            "needs_background": "light"
          }
        }
      ]
    },
    {
      "cell_type": "markdown",
      "metadata": {
        "id": "qGTT05EUTFIZ",
        "colab_type": "text"
      },
      "source": [
        "Total incorrect predictions"
      ]
    },
    {
      "cell_type": "code",
      "metadata": {
        "id": "ftVykcqNSIWr",
        "colab_type": "code",
        "colab": {
          "base_uri": "https://localhost:8080/",
          "height": 35
        },
        "outputId": "0b19effe-a6e3-4a32-a513-86c6a85b32f4"
      },
      "source": [
        "ind=0\n",
        "wrong_ind=[]\n",
        "for i in range(len(test_Y)):\n",
        "  if (np.argmax(predictions[i])!=test_Y[i]):\n",
        "    ind+=1\n",
        "    wrong_ind.append(i)\n",
        "print(ind)"
      ],
      "execution_count": 73,
      "outputs": [
        {
          "output_type": "stream",
          "text": [
            "304\n"
          ],
          "name": "stdout"
        }
      ]
    },
    {
      "cell_type": "markdown",
      "metadata": {
        "id": "YjmCNYSXTKjM",
        "colab_type": "text"
      },
      "source": [
        "There are 306 incorrect predictions of digits.Plotting graphs of predictions for all of them"
      ]
    },
    {
      "cell_type": "code",
      "metadata": {
        "id": "5CiulQKeUUPp",
        "colab_type": "code",
        "colab": {
          "base_uri": "https://localhost:8080/",
          "height": 35
        },
        "outputId": "2413a496-8316-49a5-d192-f5b46ba905b7"
      },
      "source": [
        "len(wrong_ind)"
      ],
      "execution_count": 74,
      "outputs": [
        {
          "output_type": "execute_result",
          "data": {
            "text/plain": [
              "304"
            ]
          },
          "metadata": {
            "tags": []
          },
          "execution_count": 74
        }
      ]
    },
    {
      "cell_type": "code",
      "metadata": {
        "id": "eurQr2qmUew8",
        "colab_type": "code",
        "colab": {
          "base_uri": "https://localhost:8080/",
          "height": 1000
        },
        "outputId": "c819bf70-a26e-4b3f-de34-55a04bd15372"
      },
      "source": [
        "for i in wrong_ind:\n",
        "  pred=np.argmax(predictions[i])\n",
        "  act=test_Y[i]\n",
        "  print('actual_value{}  |   predicted_value{}'.format(pred,act))"
      ],
      "execution_count": 77,
      "outputs": [
        {
          "output_type": "stream",
          "text": [
            "actual_value7  |   predicted_value8\n",
            "actual_value2  |   predicted_value4\n",
            "actual_value0  |   predicted_value6\n",
            "actual_value3  |   predicted_value9\n",
            "actual_value4  |   predicted_value8\n",
            "actual_value7  |   predicted_value2\n",
            "actual_value3  |   predicted_value5\n",
            "actual_value7  |   predicted_value3\n",
            "actual_value0  |   predicted_value6\n",
            "actual_value0  |   predicted_value8\n",
            "actual_value3  |   predicted_value5\n",
            "actual_value2  |   predicted_value8\n",
            "actual_value6  |   predicted_value4\n",
            "actual_value8  |   predicted_value1\n",
            "actual_value8  |   predicted_value2\n",
            "actual_value3  |   predicted_value7\n",
            "actual_value4  |   predicted_value8\n",
            "actual_value3  |   predicted_value5\n",
            "actual_value6  |   predicted_value0\n",
            "actual_value9  |   predicted_value4\n",
            "actual_value2  |   predicted_value7\n",
            "actual_value3  |   predicted_value8\n",
            "actual_value7  |   predicted_value8\n",
            "actual_value7  |   predicted_value9\n",
            "actual_value3  |   predicted_value1\n",
            "actual_value2  |   predicted_value7\n",
            "actual_value4  |   predicted_value5\n",
            "actual_value0  |   predicted_value6\n",
            "actual_value5  |   predicted_value6\n",
            "actual_value1  |   predicted_value7\n",
            "actual_value8  |   predicted_value6\n",
            "actual_value7  |   predicted_value3\n",
            "actual_value3  |   predicted_value9\n",
            "actual_value6  |   predicted_value4\n",
            "actual_value7  |   predicted_value3\n",
            "actual_value1  |   predicted_value6\n",
            "actual_value4  |   predicted_value9\n",
            "actual_value4  |   predicted_value8\n",
            "actual_value2  |   predicted_value7\n",
            "actual_value4  |   predicted_value9\n",
            "actual_value9  |   predicted_value4\n",
            "actual_value3  |   predicted_value9\n",
            "actual_value6  |   predicted_value4\n",
            "actual_value1  |   predicted_value7\n",
            "actual_value2  |   predicted_value7\n",
            "actual_value9  |   predicted_value5\n",
            "actual_value7  |   predicted_value5\n",
            "actual_value0  |   predicted_value8\n",
            "actual_value6  |   predicted_value8\n",
            "actual_value1  |   predicted_value7\n",
            "actual_value6  |   predicted_value2\n",
            "actual_value6  |   predicted_value5\n",
            "actual_value3  |   predicted_value5\n",
            "actual_value7  |   predicted_value6\n",
            "actual_value3  |   predicted_value8\n",
            "actual_value9  |   predicted_value5\n",
            "actual_value1  |   predicted_value7\n",
            "actual_value9  |   predicted_value7\n",
            "actual_value7  |   predicted_value8\n",
            "actual_value6  |   predicted_value4\n",
            "actual_value6  |   predicted_value2\n",
            "actual_value6  |   predicted_value0\n",
            "actual_value0  |   predicted_value2\n",
            "actual_value7  |   predicted_value3\n",
            "actual_value3  |   predicted_value9\n",
            "actual_value1  |   predicted_value7\n",
            "actual_value0  |   predicted_value8\n",
            "actual_value5  |   predicted_value9\n",
            "actual_value2  |   predicted_value4\n",
            "actual_value2  |   predicted_value7\n",
            "actual_value8  |   predicted_value2\n",
            "actual_value3  |   predicted_value8\n",
            "actual_value4  |   predicted_value9\n",
            "actual_value6  |   predicted_value4\n",
            "actual_value5  |   predicted_value7\n",
            "actual_value3  |   predicted_value9\n",
            "actual_value3  |   predicted_value5\n",
            "actual_value9  |   predicted_value8\n",
            "actual_value2  |   predicted_value7\n",
            "actual_value3  |   predicted_value5\n",
            "actual_value4  |   predicted_value5\n",
            "actual_value8  |   predicted_value4\n",
            "actual_value7  |   predicted_value2\n",
            "actual_value9  |   predicted_value4\n",
            "actual_value0  |   predicted_value5\n",
            "actual_value1  |   predicted_value8\n",
            "actual_value0  |   predicted_value2\n",
            "actual_value7  |   predicted_value3\n",
            "actual_value0  |   predicted_value6\n",
            "actual_value7  |   predicted_value9\n",
            "actual_value1  |   predicted_value6\n",
            "actual_value2  |   predicted_value1\n",
            "actual_value5  |   predicted_value0\n",
            "actual_value3  |   predicted_value2\n",
            "actual_value6  |   predicted_value5\n",
            "actual_value0  |   predicted_value8\n",
            "actual_value0  |   predicted_value9\n",
            "actual_value3  |   predicted_value7\n",
            "actual_value2  |   predicted_value0\n",
            "actual_value9  |   predicted_value5\n",
            "actual_value1  |   predicted_value9\n",
            "actual_value3  |   predicted_value8\n",
            "actual_value0  |   predicted_value8\n",
            "actual_value1  |   predicted_value9\n",
            "actual_value4  |   predicted_value9\n",
            "actual_value4  |   predicted_value6\n",
            "actual_value1  |   predicted_value2\n",
            "actual_value0  |   predicted_value2\n",
            "actual_value0  |   predicted_value2\n",
            "actual_value3  |   predicted_value5\n",
            "actual_value1  |   predicted_value7\n",
            "actual_value3  |   predicted_value7\n",
            "actual_value0  |   predicted_value9\n",
            "actual_value1  |   predicted_value6\n",
            "actual_value4  |   predicted_value9\n",
            "actual_value3  |   predicted_value5\n",
            "actual_value4  |   predicted_value9\n",
            "actual_value7  |   predicted_value4\n",
            "actual_value0  |   predicted_value8\n",
            "actual_value3  |   predicted_value7\n",
            "actual_value0  |   predicted_value3\n",
            "actual_value2  |   predicted_value3\n",
            "actual_value7  |   predicted_value9\n",
            "actual_value5  |   predicted_value3\n",
            "actual_value3  |   predicted_value5\n",
            "actual_value1  |   predicted_value9\n",
            "actual_value3  |   predicted_value1\n",
            "actual_value9  |   predicted_value5\n",
            "actual_value9  |   predicted_value7\n",
            "actual_value3  |   predicted_value8\n",
            "actual_value9  |   predicted_value7\n",
            "actual_value1  |   predicted_value7\n",
            "actual_value9  |   predicted_value8\n",
            "actual_value1  |   predicted_value9\n",
            "actual_value9  |   predicted_value4\n",
            "actual_value0  |   predicted_value6\n",
            "actual_value1  |   predicted_value9\n",
            "actual_value4  |   predicted_value6\n",
            "actual_value7  |   predicted_value4\n",
            "actual_value2  |   predicted_value3\n",
            "actual_value0  |   predicted_value5\n",
            "actual_value5  |   predicted_value8\n",
            "actual_value5  |   predicted_value8\n",
            "actual_value3  |   predicted_value9\n",
            "actual_value0  |   predicted_value7\n",
            "actual_value0  |   predicted_value8\n",
            "actual_value3  |   predicted_value8\n",
            "actual_value3  |   predicted_value2\n",
            "actual_value3  |   predicted_value5\n",
            "actual_value3  |   predicted_value9\n",
            "actual_value9  |   predicted_value4\n",
            "actual_value4  |   predicted_value6\n",
            "actual_value2  |   predicted_value7\n",
            "actual_value3  |   predicted_value8\n",
            "actual_value3  |   predicted_value7\n",
            "actual_value8  |   predicted_value5\n",
            "actual_value6  |   predicted_value4\n",
            "actual_value8  |   predicted_value2\n",
            "actual_value3  |   predicted_value7\n",
            "actual_value3  |   predicted_value2\n",
            "actual_value1  |   predicted_value7\n",
            "actual_value5  |   predicted_value6\n",
            "actual_value0  |   predicted_value5\n",
            "actual_value4  |   predicted_value9\n",
            "actual_value6  |   predicted_value5\n",
            "actual_value3  |   predicted_value5\n",
            "actual_value3  |   predicted_value1\n",
            "actual_value3  |   predicted_value9\n",
            "actual_value6  |   predicted_value4\n",
            "actual_value8  |   predicted_value2\n",
            "actual_value4  |   predicted_value9\n",
            "actual_value1  |   predicted_value7\n",
            "actual_value4  |   predicted_value9\n",
            "actual_value8  |   predicted_value9\n",
            "actual_value4  |   predicted_value7\n",
            "actual_value9  |   predicted_value0\n",
            "actual_value3  |   predicted_value5\n",
            "actual_value0  |   predicted_value8\n",
            "actual_value3  |   predicted_value9\n",
            "actual_value4  |   predicted_value9\n",
            "actual_value3  |   predicted_value5\n",
            "actual_value1  |   predicted_value5\n",
            "actual_value0  |   predicted_value9\n",
            "actual_value7  |   predicted_value2\n",
            "actual_value7  |   predicted_value1\n",
            "actual_value6  |   predicted_value2\n",
            "actual_value7  |   predicted_value9\n",
            "actual_value8  |   predicted_value2\n",
            "actual_value4  |   predicted_value9\n",
            "actual_value7  |   predicted_value2\n",
            "actual_value7  |   predicted_value3\n",
            "actual_value9  |   predicted_value5\n",
            "actual_value4  |   predicted_value9\n",
            "actual_value6  |   predicted_value5\n",
            "actual_value4  |   predicted_value9\n",
            "actual_value3  |   predicted_value7\n",
            "actual_value7  |   predicted_value3\n",
            "actual_value6  |   predicted_value0\n",
            "actual_value7  |   predicted_value8\n",
            "actual_value5  |   predicted_value6\n",
            "actual_value2  |   predicted_value4\n",
            "actual_value4  |   predicted_value8\n",
            "actual_value4  |   predicted_value2\n",
            "actual_value5  |   predicted_value3\n",
            "actual_value7  |   predicted_value8\n",
            "actual_value3  |   predicted_value8\n",
            "actual_value4  |   predicted_value6\n",
            "actual_value4  |   predicted_value9\n",
            "actual_value1  |   predicted_value7\n",
            "actual_value0  |   predicted_value9\n",
            "actual_value8  |   predicted_value0\n",
            "actual_value1  |   predicted_value7\n",
            "actual_value5  |   predicted_value8\n",
            "actual_value4  |   predicted_value8\n",
            "actual_value1  |   predicted_value7\n",
            "actual_value3  |   predicted_value8\n",
            "actual_value2  |   predicted_value3\n",
            "actual_value7  |   predicted_value9\n",
            "actual_value6  |   predicted_value1\n",
            "actual_value8  |   predicted_value1\n",
            "actual_value3  |   predicted_value8\n",
            "actual_value9  |   predicted_value7\n",
            "actual_value5  |   predicted_value1\n",
            "actual_value7  |   predicted_value3\n",
            "actual_value3  |   predicted_value5\n",
            "actual_value6  |   predicted_value8\n",
            "actual_value7  |   predicted_value4\n",
            "actual_value2  |   predicted_value7\n",
            "actual_value0  |   predicted_value4\n",
            "actual_value3  |   predicted_value5\n",
            "actual_value3  |   predicted_value5\n",
            "actual_value8  |   predicted_value3\n",
            "actual_value3  |   predicted_value5\n",
            "actual_value8  |   predicted_value3\n",
            "actual_value0  |   predicted_value2\n",
            "actual_value9  |   predicted_value3\n",
            "actual_value3  |   predicted_value9\n",
            "actual_value3  |   predicted_value9\n",
            "actual_value5  |   predicted_value3\n",
            "actual_value0  |   predicted_value9\n",
            "actual_value4  |   predicted_value3\n",
            "actual_value9  |   predicted_value8\n",
            "actual_value4  |   predicted_value9\n",
            "actual_value7  |   predicted_value9\n",
            "actual_value1  |   predicted_value7\n",
            "actual_value1  |   predicted_value7\n",
            "actual_value7  |   predicted_value0\n",
            "actual_value3  |   predicted_value5\n",
            "actual_value7  |   predicted_value8\n",
            "actual_value4  |   predicted_value8\n",
            "actual_value5  |   predicted_value9\n",
            "actual_value5  |   predicted_value0\n",
            "actual_value7  |   predicted_value8\n",
            "actual_value5  |   predicted_value8\n",
            "actual_value4  |   predicted_value9\n",
            "actual_value4  |   predicted_value6\n",
            "actual_value4  |   predicted_value6\n",
            "actual_value7  |   predicted_value0\n",
            "actual_value9  |   predicted_value4\n",
            "actual_value1  |   predicted_value7\n",
            "actual_value8  |   predicted_value4\n",
            "actual_value4  |   predicted_value2\n",
            "actual_value4  |   predicted_value2\n",
            "actual_value1  |   predicted_value8\n",
            "actual_value8  |   predicted_value1\n",
            "actual_value1  |   predicted_value2\n",
            "actual_value1  |   predicted_value2\n",
            "actual_value5  |   predicted_value8\n",
            "actual_value9  |   predicted_value3\n",
            "actual_value4  |   predicted_value6\n",
            "actual_value5  |   predicted_value0\n",
            "actual_value6  |   predicted_value8\n",
            "actual_value3  |   predicted_value7\n",
            "actual_value9  |   predicted_value4\n",
            "actual_value6  |   predicted_value8\n",
            "actual_value2  |   predicted_value7\n",
            "actual_value2  |   predicted_value7\n",
            "actual_value2  |   predicted_value7\n",
            "actual_value2  |   predicted_value7\n",
            "actual_value5  |   predicted_value8\n",
            "actual_value3  |   predicted_value5\n",
            "actual_value3  |   predicted_value5\n",
            "actual_value9  |   predicted_value4\n",
            "actual_value4  |   predicted_value9\n",
            "actual_value3  |   predicted_value0\n",
            "actual_value7  |   predicted_value9\n",
            "actual_value7  |   predicted_value2\n",
            "actual_value3  |   predicted_value6\n",
            "actual_value5  |   predicted_value6\n",
            "actual_value8  |   predicted_value2\n",
            "actual_value5  |   predicted_value2\n",
            "actual_value6  |   predicted_value5\n",
            "actual_value1  |   predicted_value8\n",
            "actual_value2  |   predicted_value4\n",
            "actual_value6  |   predicted_value5\n",
            "actual_value0  |   predicted_value2\n",
            "actual_value0  |   predicted_value5\n",
            "actual_value0  |   predicted_value2\n",
            "actual_value1  |   predicted_value4\n",
            "actual_value4  |   predicted_value9\n",
            "actual_value7  |   predicted_value2\n",
            "actual_value5  |   predicted_value8\n",
            "actual_value7  |   predicted_value3\n",
            "actual_value9  |   predicted_value3\n"
          ],
          "name": "stdout"
        }
      ]
    },
    {
      "cell_type": "code",
      "metadata": {
        "id": "hMy3ba8rcJdm",
        "colab_type": "code",
        "colab": {}
      },
      "source": [
        ""
      ],
      "execution_count": null,
      "outputs": []
    }
  ]
}